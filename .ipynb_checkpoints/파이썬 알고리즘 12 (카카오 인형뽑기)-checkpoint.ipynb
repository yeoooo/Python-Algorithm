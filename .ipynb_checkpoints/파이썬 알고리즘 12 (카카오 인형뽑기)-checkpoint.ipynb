{
 "cells": [
  {
   "cell_type": "code",
   "execution_count": 1,
   "metadata": {},
   "outputs": [],
   "source": [
    "def solution(board, moves):\n",
    "    basket = []\n",
    "    answer = 0\n",
    "    \n",
    "    for i in range(len(moves)):\n",
    "        moves[i] -= 1\n",
    "\n",
    "    for i in moves: #i 가 0\n",
    "        for j in range(len(board)):#j 가 \n",
    "                \n",
    "            if board[j][i] != 0:#board[3][0]이 0이 아니면\n",
    "                basket.append(board[j][i])#basket에 board[3][0]\n",
    "                board[j][i] = 0\n",
    "                if basket[len(basket)-1] == basket[len(basket)-2] and len(basket)>=2:\n",
    "                        basket.pop()                           \n",
    "                        basket.pop()\n",
    "                        answer = answer + 2\n",
    "                            \n",
    "                break\n",
    "    return answer"
   ]
  },
  {
   "cell_type": "code",
   "execution_count": 2,
   "metadata": {},
   "outputs": [
    {
     "data": {
      "text/plain": [
       "4"
      ]
     },
     "execution_count": 2,
     "metadata": {},
     "output_type": "execute_result"
    }
   ],
   "source": [
    "board = [[0,0,0,0,0],\n",
    "         [0,0,1,0,3],\n",
    "         [0,2,5,0,1],\n",
    "         [4,2,4,4,2],\n",
    "         [3,5,1,3,1]]\n",
    "\n",
    "moves = [1,5,3,5,1,2,1,4]\n",
    "solution(board, moves)"
   ]
  },
  {
   "cell_type": "code",
   "execution_count": null,
   "metadata": {},
   "outputs": [],
   "source": [
    "stack = []\n"
   ]
  }
 ],
 "metadata": {
  "kernelspec": {
   "display_name": "Python 3",
   "language": "python",
   "name": "python3"
  },
  "language_info": {
   "codemirror_mode": {
    "name": "ipython",
    "version": 3
   },
   "file_extension": ".py",
   "mimetype": "text/x-python",
   "name": "python",
   "nbconvert_exporter": "python",
   "pygments_lexer": "ipython3",
   "version": "3.7.9"
  }
 },
 "nbformat": 4,
 "nbformat_minor": 4
}

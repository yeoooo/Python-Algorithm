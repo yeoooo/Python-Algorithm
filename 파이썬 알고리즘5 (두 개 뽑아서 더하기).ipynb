{
 "cells": [
  {
   "cell_type": "code",
   "execution_count": 52,
   "metadata": {},
   "outputs": [],
   "source": [
    "def solution(numbers):\n",
    "    answer = []\n",
    "    \n",
    "    for i in range(len(numbers)):#numbers 배열을 탐색\n",
    "        for j in range(len(numbers)):\n",
    "            if i != j:\n",
    "                answer.append(numbers[i] + numbers[j])\n",
    "                print(numbers[i] + numbers[j])\n",
    "    answer = set(answer)\n",
    "    answer = list(answer)\n",
    "    answer.sort()\n",
    "\n",
    "    return answer"
   ]
  },
  {
   "cell_type": "code",
   "execution_count": 50,
   "metadata": {},
   "outputs": [
    {
     "name": "stdout",
     "output_type": "stream",
     "text": [
      "3\n",
      "5\n",
      "6\n",
      "3\n",
      "3\n",
      "4\n",
      "5\n",
      "2\n",
      "5\n",
      "4\n",
      "7\n",
      "4\n",
      "6\n",
      "5\n",
      "7\n",
      "5\n",
      "3\n",
      "2\n",
      "4\n",
      "5\n",
      "[2, 2, 3, 3, 3, 3, 4, 4, 4, 4, 5, 5, 5, 5, 5, 5, 6, 6, 7, 7]\n"
     ]
    }
   ],
   "source": [
    "numbers = [2, 1, 3, 4, 1]\n",
    "print(solution(numbers))\n"
   ]
  },
  {
   "cell_type": "code",
   "execution_count": null,
   "metadata": {},
   "outputs": [],
   "source": []
  }
 ],
 "metadata": {
  "kernelspec": {
   "display_name": "Python 3",
   "language": "python",
   "name": "python3"
  },
  "language_info": {
   "codemirror_mode": {
    "name": "ipython",
    "version": 3
   },
   "file_extension": ".py",
   "mimetype": "text/x-python",
   "name": "python",
   "nbconvert_exporter": "python",
   "pygments_lexer": "ipython3",
   "version": "3.7.6"
  }
 },
 "nbformat": 4,
 "nbformat_minor": 4
}

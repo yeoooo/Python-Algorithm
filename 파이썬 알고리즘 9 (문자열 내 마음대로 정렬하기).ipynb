{
 "cells": [
  {
   "cell_type": "code",
   "execution_count": 9,
   "metadata": {},
   "outputs": [],
   "source": [
    "def solution(s, n):\n",
    "    answer = []\n",
    "    \n",
    "    for i in range(len(s)):\n",
    "        s[i] = s[i][n] + s[i]\n",
    "    \n",
    "    s.sort()\n",
    "    \n",
    "    for i in range(len(s)):\n",
    "        answer.append(s[i][1:])        \n",
    "            \n",
    "    return answer"
   ]
  }
 ],
 "metadata": {
  "kernelspec": {
   "display_name": "Python 3",
   "language": "python",
   "name": "python3"
  },
  "language_info": {
   "codemirror_mode": {
    "name": "ipython",
    "version": 3
   },
   "file_extension": ".py",
   "mimetype": "text/x-python",
   "name": "python",
   "nbconvert_exporter": "python",
   "pygments_lexer": "ipython3",
   "version": "3.7.6"
  }
 },
 "nbformat": 4,
 "nbformat_minor": 4
}

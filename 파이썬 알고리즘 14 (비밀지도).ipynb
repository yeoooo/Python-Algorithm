{
 "cells": [
  {
   "cell_type": "markdown",
   "metadata": {},
   "source": [
    "1. 먼저 지도를 받으면 각 숫자에 해당하는 2진수로 표현해야한다\n",
    "2. answer 배열에는 각 지도에서 벽인 부분을 합쳐서 넣어준다\n",
    "3. answer배열에서 1인 부분을 #으로 바꿔준다"
   ]
  },
  {
   "cell_type": "code",
   "execution_count": 45,
   "metadata": {},
   "outputs": [],
   "source": [
    "def solution(n, arr1, arr2):\n",
    "    \n",
    "    answer = []\n",
    "\n",
    "\n",
    "    map1 = map_decode(n, arr1)\n",
    "    map2 = map_decode(n, arr2)\n",
    "    \n",
    "    for i in range(n):\n",
    "        tmp = \"\"\n",
    "        for j in range(n):\n",
    "            if map1[i][j] == map2[i][j] and map1[i][j] == '1':\n",
    "                tmp+='#'\n",
    "            elif map1[i][j] == map2[i][j] and map1[i][j] == '0':\n",
    "                tmp+=' '\n",
    "            else:\n",
    "                tmp+='#'\n",
    "        answer.append(tmp)    \n",
    "    \n",
    "    \n",
    "    return answer\n",
    "\n",
    "def map_decode(n, arr):#2진수 변환\n",
    "    #decoded_map = [[0]*n for i in range(n)]#크기 n 배열\n",
    "    decoded_map = []\n",
    "    tmp = \"\"    \n",
    "    tmp_arr = []\n",
    "    for i in arr:\n",
    "        tmp = bin(i)[2:]#접두어를 뺀 이진수\n",
    "        \n",
    "        if len(tmp) == n:\n",
    "            tmp_arr.append(tmp)#2진수 tmp를 넣어줌\n",
    "            \n",
    "        else:\n",
    "            while len(tmp) < n:#2진수 값과 배열길이가 같을 때 까지\n",
    "                tmp = \"0\" + tmp#앞에 0을 붙여줌\n",
    "            tmp_arr.append(tmp) #2진수 tmp를 넣어줌\n",
    "    #------------------------------------------------------\n",
    "    for i in tmp_arr:#01001~01011\n",
    "        tmp = []\n",
    "        for j in range(len(i)):#0~4\n",
    "            tmp.append(i[j])\n",
    "        decoded_map.append(tmp)            \n",
    "    return decoded_map\n",
    "\n",
    "    "
   ]
  },
  {
   "cell_type": "code",
   "execution_count": 46,
   "metadata": {},
   "outputs": [
    {
     "name": "stdout",
     "output_type": "stream",
     "text": [
      "['#####', '# # #', '### #', '#  ##', '#####']\n"
     ]
    }
   ],
   "source": [
    "n = 5\n",
    "arr1 = [9, 20, 28, 18, 11]\n",
    "arr2 = [30, 1, 21, 17, 28]\n",
    "\n",
    "print(solution(n, arr1, arr2))"
   ]
  }
 ],
 "metadata": {
  "kernelspec": {
   "display_name": "Python 3",
   "language": "python",
   "name": "python3"
  },
  "language_info": {
   "codemirror_mode": {
    "name": "ipython",
    "version": 3
   },
   "file_extension": ".py",
   "mimetype": "text/x-python",
   "name": "python",
   "nbconvert_exporter": "python",
   "pygments_lexer": "ipython3",
   "version": "3.7.6"
  }
 },
 "nbformat": 4,
 "nbformat_minor": 5
}

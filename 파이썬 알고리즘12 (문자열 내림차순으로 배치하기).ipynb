{
 "cells": [
  {
   "cell_type": "code",
   "execution_count": 28,
   "id": "imposed-while",
   "metadata": {},
   "outputs": [],
   "source": [
    "def solution(s):\n",
    "    answer = ''\n",
    "    str_list = []\n",
    "    \n",
    "    for i in range(len(s)):\n",
    "        str_list.append(ord(s[i]))\n",
    "    \n",
    "    str_list.sort()\n",
    "    str_list.reverse()\n",
    "    \n",
    "    for i in range(len(str_list)):\n",
    "        answer += chr(str_list[i])\n",
    "        \n",
    "    return answer"
   ]
  },
  {
   "cell_type": "code",
   "execution_count": 29,
   "id": "applicable-broadway",
   "metadata": {},
   "outputs": [
    {
     "name": "stdout",
     "output_type": "stream",
     "text": [
      "gfedcbZ\n"
     ]
    }
   ],
   "source": [
    "s = \"Zbcdefg\"\n",
    "print(solution(s))"
   ]
  }
 ],
 "metadata": {
  "kernelspec": {
   "display_name": "Python 3",
   "language": "python",
   "name": "python3"
  },
  "language_info": {
   "codemirror_mode": {
    "name": "ipython",
    "version": 3
   },
   "file_extension": ".py",
   "mimetype": "text/x-python",
   "name": "python",
   "nbconvert_exporter": "python",
   "pygments_lexer": "ipython3",
   "version": "3.7.9"
  }
 },
 "nbformat": 4,
 "nbformat_minor": 5
}

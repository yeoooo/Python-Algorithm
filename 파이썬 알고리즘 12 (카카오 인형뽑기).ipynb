{
 "cells": [
  {
   "cell_type": "code",
   "execution_count": 22,
   "metadata": {},
   "outputs": [],
   "source": [
    "def solution(board, moves):\n",
    "    basket = []\n",
    "    answer = 0\n",
    "    \n",
    "    for i in range(len(moves)):#인덱스로 바로 사용\n",
    "        moves[i] -= 1\n",
    "\n",
    "    for i in moves: \n",
    "        for j in range(len(board)):\n",
    "                \n",
    "            if board[j][i] != 0:#board[3][0]이 0이 아니면\n",
    "                basket.append(board[j][i])#basket에 board[3][0]\n",
    "                board[j][i] = 0\n",
    "                if basket[len(basket)-1] == basket[len(basket)-2] and len(basket)>=2:\n",
    "                        basket.pop()                           \n",
    "                        basket.pop()\n",
    "                        answer = answer + 2\n",
    "                            \n",
    "                break\n",
    "    return answer"
   ]
  }
 ],
 "metadata": {
  "kernelspec": {
   "display_name": "Python 3",
   "language": "python",
   "name": "python3"
  },
  "language_info": {
   "codemirror_mode": {
    "name": "ipython",
    "version": 3
   },
   "file_extension": ".py",
   "mimetype": "text/x-python",
   "name": "python",
   "nbconvert_exporter": "python",
   "pygments_lexer": "ipython3",
   "version": "3.8.3"
  }
 },
 "nbformat": 4,
 "nbformat_minor": 4
}
